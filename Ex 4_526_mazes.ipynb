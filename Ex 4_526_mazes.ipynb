{
 "cells": [
  {
   "cell_type": "code",
   "execution_count": null,
   "metadata": {},
   "outputs": [],
   "source": [
    "import numpy as np\n",
    "\n",
    "\n",
    "def create_maze(size, n_walls, length_walls=0.3):\n",
    "    maze = np.ones((size, size), dtype=bool)\n",
    "\n",
    "    for i in range(n_walls):\n",
    "        row, col = np.random.randint(0, size - 1, 2)\n",
    "\n",
    "        wall = np.random.poisson(length_walls) * np.random.choice([-1, 1])\n",
    "\n",
    "        if np.random.choice([True, False]):\n",
    "            row = make_range(row, wall, size)\n",
    "        else:\n",
    "            col = make_range(col, wall, size)\n",
    "\n",
    "        maze[row, col] = False\n",
    "\n",
    "    maze[0, 0] = True\n",
    "    maze[size - 1, size - 1] = True\n",
    "    return maze\n",
    "\n",
    "\n",
    "def make_range(start, length, m):\n",
    "    d = np.clip(np.array([start + length, start]), 0, m - 1)\n",
    "    return list(range(d.min(), d.max() + 1))"
   ]
  }
 ],
 "metadata": {
  "kernelspec": {
   "display_name": "Python 3",
   "language": "python",
   "name": "python3"
  },
  "language_info": {
   "codemirror_mode": {
    "name": "ipython",
    "version": 3
   },
   "file_extension": ".py",
   "mimetype": "text/x-python",
   "name": "python",
   "nbconvert_exporter": "python",
   "pygments_lexer": "ipython3",
   "version": "3.7.4"
  }
 },
 "nbformat": 4,
 "nbformat_minor": 2
}
