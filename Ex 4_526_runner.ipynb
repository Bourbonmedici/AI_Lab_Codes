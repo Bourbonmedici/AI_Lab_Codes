{
 "cells": [
  {
   "cell_type": "code",
   "execution_count": 1,
   "metadata": {
    "scrolled": true
   },
   "outputs": [
    {
     "name": "stdout",
     "output_type": "stream",
     "text": [
      "importing Jupyter notebook from algos.ipynb\n",
      "importing Jupyter notebook from mazes.ipynb\n",
      "importing Jupyter notebook from plotting.ipynb\n"
     ]
    },
    {
     "name": "stderr",
     "output_type": "stream",
     "text": [
      "100%|██████████████████████████████████████████████████████████████████████████████| 1000/1000 [02:09<00:00,  7.71it/s]\n"
     ]
    },
    {
     "name": "stdout",
     "output_type": "stream",
     "text": [
      "| finished   | algo   |   seconds |   n_explored |   length_path |   count |\n",
      "|:-----------|:-------|----------:|-------------:|--------------:|--------:|\n",
      "| False      | A-star | 0.033355  |      2397.05 |       nan     |     429 |\n",
      "| False      | BFS    | 0.0205793 |      2397.05 |       nan     |     429 |\n",
      "| False      | DFS    | 0.0203467 |      2397.05 |       nan     |     429 |\n",
      "| True       | A-star | 0.042681  |      2987.72 |       211.52  |     571 |\n",
      "| True       | BFS    | 0.0591335 |      7104.2  |       211.52  |     571 |\n",
      "| True       | DFS    | 0.0323376 |      3811.35 |       822.445 |     571 |\n"
     ]
    }
   ],
   "source": [
    "import import_ipynb \n",
    "import algos\n",
    "import mazes\n",
    "import plotting\n",
    "from collections import namedtuple\n",
    "from functools import partial\n",
    "from timeit import default_timer as timer\n",
    "import matplotlib.animation as ani\n",
    "import matplotlib.pyplot as plt\n",
    "import numpy as np\n",
    "import pandas as pd\n",
    "import tabulate\n",
    "import tqdm\n",
    "import os\n",
    "import networkx as nx\n",
    "from matplotlib.animation import FuncAnimation, PillowWriter \n",
    "from algos import bfs, dfs, astar, manhattan_heuristic\n",
    "from mazes import create_maze\n",
    "from plotting import Plotter\n",
    "np.random.seed(0)\n",
    "\n",
    "SIZE = 100\n",
    "START = (0, 0)\n",
    "GOAL = (SIZE - 1, SIZE - 1)\n",
    "OBSTACLE_COUNT = SIZE ** 2 // 30\n",
    "OBSTACLE_SIZE = 7\n",
    "\n",
    "ALGOS = [\n",
    "    (\"DFS\", partial(dfs, start=START, goal=GOAL)),\n",
    "    (\"BFS\", partial(bfs, start=START, goal=GOAL)),\n",
    "    (\n",
    "        \"A-star\",\n",
    "        partial(astar, start=START, goal=GOAL, heuristic=manhattan_heuristic(SIZE)),\n",
    "    ),\n",
    "]\n",
    "\n",
    "Result = namedtuple(\n",
    "    \"Result\", [\"round\", \"finished\", \"n_explored\", \"length_path\", \"seconds\", \"algo\"]\n",
    ")\n",
    "\n",
    "\n",
    "def simulate(n, max_good_mazes=float(\"inf\")):\n",
    "    results = []\n",
    "    good_mazes = []\n",
    "    for i in tqdm.tqdm(range(n), mininterval=1):\n",
    "        maze = create_maze(SIZE, OBSTACLE_COUNT, OBSTACLE_SIZE)\n",
    "        for algo_name, algo in ALGOS:\n",
    "            time_start = timer()\n",
    "            finished, explored_nodes, path = algo(maze)\n",
    "            time_end = timer()\n",
    "            r = Result(\n",
    "                round=i,\n",
    "                finished=finished,\n",
    "                n_explored=len(explored_nodes),\n",
    "                length_path=None if not finished else len(path),\n",
    "                seconds=time_end - time_start,\n",
    "                algo=algo_name,\n",
    "            )\n",
    "            results.append(r)\n",
    "            if finished and algo_name == ALGOS[0][0]:\n",
    "                good_mazes.append(maze)\n",
    "                if len(good_mazes) >= max_good_mazes:\n",
    "                    break\n",
    "\n",
    "    results_df = pd.DataFrame(results)\n",
    "    return results_df, good_mazes\n",
    "\n",
    "\n",
    "def create_animation(title, algo, maze):\n",
    "    finished, explored, path = algo(maze)\n",
    "    assert finished, \"goal not reachable\"\n",
    "\n",
    "    plotter = Plotter(\n",
    "        maze, explored, path, frame_skip_path=8, frame_skip_search=32, end_frames=30\n",
    "    )\n",
    "\n",
    "    plotter.init_fig(title)\n",
    "\n",
    "    anim = ani.FuncAnimation(\n",
    "        plotter.fig,\n",
    "        plotter.anim_fn,\n",
    "        init_func=plotter.init_fn,\n",
    "        frames=plotter.total_frames,\n",
    "        interval=1,\n",
    "        repeat=True,\n",
    "    )\n",
    "    return anim\n",
    "\n",
    "\n",
    "result_df, good_mazes = simulate(1000)\n",
    "\n",
    "result_agg = result_df.groupby([\"finished\", \"algo\"])[\n",
    "    \"seconds\", \"n_explored\", \"length_path\"\n",
    "].mean()\n",
    "\n",
    "result_agg[\"count\"] = result_df.groupby([\"finished\", \"algo\"]).size()\n",
    "result_agg = result_agg.reset_index()\n",
    "\n",
    "print(tabulate.tabulate(result_agg.values, result_agg.columns, tablefmt=\"pipe\"))\n",
    "\n",
    "output_path = \"_files/anim3\"\n",
    "os.makedirs(output_path, exist_ok=True)\n",
    "\n",
    "for algo_name, algo in ALGOS:\n",
    "    anim = create_animation(algo_name, algo, good_mazes[0])\n",
    "    anim.save(\n",
    "        f\"{output_path}/{algo_name.replace('*', '-star')}.gif\", writer=\"pillow\"\n",
    "    )\n",
    "    plt.close()"
   ]
  },
  {
   "cell_type": "code",
   "execution_count": null,
   "metadata": {},
   "outputs": [],
   "source": []
  },
  {
   "cell_type": "code",
   "execution_count": null,
   "metadata": {},
   "outputs": [],
   "source": []
  }
 ],
 "metadata": {
  "kernelspec": {
   "display_name": "Python 3",
   "language": "python",
   "name": "python3"
  },
  "language_info": {
   "codemirror_mode": {
    "name": "ipython",
    "version": 3
   },
   "file_extension": ".py",
   "mimetype": "text/x-python",
   "name": "python",
   "nbconvert_exporter": "python",
   "pygments_lexer": "ipython3",
   "version": "3.7.4"
  }
 },
 "nbformat": 4,
 "nbformat_minor": 2
}
